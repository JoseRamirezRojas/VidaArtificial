{
 "cells": [
  {
   "cell_type": "code",
   "execution_count": null,
   "metadata": {},
   "outputs": [],
   "source": [
    "import turtle\n",
    "import os\n",
    "import numpy as np\n",
    "\n",
    "def langton_ant(ant, pattern, window):\n",
    "    # Contains the coordinate and colour\n",
    "    window.tracer(0)\n",
    "    visited = {}\n",
    "    pos = coordinate(ant)\n",
    "    step = 7 # move ant forward\n",
    "    colors_list = [(0,0,0)]\n",
    "    behavior = len(pattern)\n",
    "    for i in range(behavior-1):\n",
    "        colors_list.append(random_color()) \n",
    "    for i in range(32000):                                            \n",
    "        if pos not in visited or visited[pos] == 0: # check wether coords were visited, or black color was set before\n",
    "            ant.color(\"red\") # blink red to get track of ant\n",
    "            window.colormode(255)\n",
    "            ant.color(colors_list[1])\n",
    "            register(visited, ant, 1)\n",
    "            if (pattern[0] == 'L'):  \n",
    "                ant.left(90)\n",
    "            elif (pattern[0] == 'R'):  \n",
    "                ant.right(90)\n",
    "            ant.forward(step)\n",
    "            pos = coordinate(ant)\n",
    "\n",
    "        elif visited[pos] is not None:\n",
    "            cell_state = visited[pos]\n",
    "            ant.color(\"red\") # blink red to get track of ant\n",
    "            window.colormode(255)\n",
    "            ant.color(colors_list[(cell_state + 1) % behavior])     \n",
    "                \n",
    "            register(visited, ant, (cell_state + 1) % behavior)\n",
    "            if (pattern[cell_state] == 'L'):  \n",
    "                ant.left(90)\n",
    "            elif (pattern[cell_state] == 'R'):  \n",
    "                ant.right(90)          \n",
    "            #moves the ant forward\n",
    "            ant.forward(step)                         \n",
    "            pos = coordinate(ant)\n",
    "        window.update()\n",
    "\n",
    "\n",
    "def register(graph, ant, color):\n",
    "    graph[coordinate(ant)] = color # labels coordinates with a color\n",
    "\n",
    "def coordinate(ant):\n",
    "    return (round(ant.xcor()), round(ant.ycor())) # returns tuple of ant coordinates\n",
    "\n",
    "def random_color():\n",
    "    return tuple(np.random.randint(256,size = 3)) # returns RGB tuple\n",
    "\n",
    "# Se introduce las reglas de la turmita\n",
    "rules = input(\"Introduce un comportamiento: (solo Ls y Rs en mayúsculas)\")\n",
    "\n",
    "# setup para dibujar\n",
    "window = turtle.Screen()\n",
    "turtle.TurtleScreen._RUNNING=True\n",
    "window.bgcolor(\"black\")\n",
    "ant = turtle.Turtle()\n",
    "ant.shapesize(0.2)\n",
    "ant.pensize(7.1)\n",
    "ant.speed(0)\n",
    "ant.color(\"red\")\n",
    "ant.shape(\"square\")\n",
    "#dibujamos\n",
    "print(rules)\n",
    "langton_ant(ant, rules, window)\n",
    "window.exitonclick()"
   ]
  }
 ],
 "metadata": {
  "kernelspec": {
   "display_name": "Python 3.8.10 64-bit",
   "language": "python",
   "name": "python3"
  },
  "language_info": {
   "codemirror_mode": {
    "name": "ipython",
    "version": 3
   },
   "file_extension": ".py",
   "mimetype": "text/x-python",
   "name": "python",
   "nbconvert_exporter": "python",
   "pygments_lexer": "ipython3",
   "version": "3.8.10"
  },
  "orig_nbformat": 4,
  "vscode": {
   "interpreter": {
    "hash": "916dbcbb3f70747c44a77c7bcd40155683ae19c65e1c03b4aa3499c5328201f1"
   }
  }
 },
 "nbformat": 4,
 "nbformat_minor": 2
}
